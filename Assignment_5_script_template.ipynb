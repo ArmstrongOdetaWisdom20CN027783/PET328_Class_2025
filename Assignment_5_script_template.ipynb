{
 "cells": [
  {
   "cell_type": "markdown",
   "id": "c3e87412",
   "metadata": {},
   "source": [
    "## A script to classify and count 'active' and 'inactive' gridblocks in a discretized reservoir"
   ]
  },
  {
   "cell_type": "code",
   "execution_count": 1,
   "id": "a53afb20",
   "metadata": {},
   "outputs": [],
   "source": [
    "#################### Task 1 ############################\n",
    "# Request for reservoir dimensions and discretization parameters\n",
    "nx = int(input(\"Enter the number of gridblocks in the x-direction: \"))\n",
    "ny = int(input(\"Enter the number of gridblocks in the y-direction: \"))\n",
    "nz = int(input(\"Enter the number of layers in the reservoir (z-direction): \"))"
   ]
  },
  {
   "cell_type": "code",
   "execution_count": 2,
   "id": "559de93e",
   "metadata": {},
   "outputs": [],
   "source": [
    "#################### Task 2 ############################\n",
    "# Request for the cut-off value\n",
    "cutoff = float(input(\"Enter the permeability cut-off value (in mD): \"))"
   ]
  },
  {
   "cell_type": "code",
   "execution_count": 3,
   "id": "81bee451",
   "metadata": {},
   "outputs": [],
   "source": [
    "#################### Task 3 ############################\n",
    "# Initialize counters\n",
    "total_active = 0\n",
    "total_inactive = 0"
   ]
  },
  {
   "cell_type": "code",
   "execution_count": 4,
   "id": "dd77006a",
   "metadata": {},
   "outputs": [],
   "source": [
    "#################### Task 4 ############################\n",
    "# Loop through all blocks (nested loop)\n",
    "for k in range(1, nz+1):\n",
    "    layer_active = 0\n",
    "    print(f\"\\nEntering data for Layer {k}:\")\n",
    "    for j in range(1, ny+1):\n",
    "        for i in range(1, nx+1):\n",
    "            perm = float(input(f\"Enter permeability at block (x={i}, y={j}, z={k}) in mD: \"))\n",
    "            if perm >= cutoff:\n",
    "                total_active += 1\n",
    "                layer_active += 1\n",
    "            else:\n",
    "                total_inactive += 1\n",
    "    print(f\"Active gridblocks in Layer {k}: {layer_active}\")"
   ]
  },
  {
   "cell_type": "code",
   "execution_count": 5,
   "id": "ec00ce2a",
   "metadata": {},
   "outputs": [],
   "source": [
    "#################### Task 5 ############################\n",
    "# Print overall counts and percentage of active blocks\n",
    "total_blocks = nx * ny * nz\n",
    "percentage_active = (total_active / total_blocks) * 100\n",
    "\n",
    "print(\"\\nSUMMARY\")\n",
    "print(f\"Total active gridblocks: {total_active}\")\n",
    "print(f\"Total inactive gridblocks: {total_inactive}\")\n",
    "print(f\"Percentage of active gridblocks: {percentage_active:.2f}%\")"
   ]
  }
 ],
 "metadata": {
  "kernelspec": {
   "display_name": "Python 3 (ipykernel)",
   "language": "python",
   "name": "python3"
  },
  "language_info": {
   "name": "python",
   "version": "3.9.12"
  }
 },
 "nbformat": 4,
 "nbformat_minor": 5
}
